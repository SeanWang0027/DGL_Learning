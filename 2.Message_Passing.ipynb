{
 "cells": [
  {
   "cell_type": "markdown",
   "metadata": {},
   "source": [
    "# Message Passing\n",
    "## Built-in Functions and Message Passing APIs\n",
    "`message function` takes a single argument `edges`, and this has three members: `src`,`dst` and `data` to access features of source nodes, destination nodes and edges.\n",
    "\n",
    "`reduce function` takes a single argument `nodes`, and uses a member called `mailbox` to access the messages reveived for the nodes in the batch.\n",
    "\n",
    "`update function` takes a single argument `nodes` to aggregate messages from various nodes.\n",
    "\n",
    "The following is an example that can `add` the `hu` feature from src nodes and `hv` feature from dst nodes and save the result on the edge at `he` field."
   ]
  },
  {
   "cell_type": "code",
   "execution_count": 2,
   "metadata": {},
   "outputs": [],
   "source": [
    "def message_func(edges):\n",
    "    return {'he':edges.src['hu'] + edges.dst['hv']}"
   ]
  },
  {
   "cell_type": "markdown",
   "metadata": {},
   "source": [
    "This following equivalent to the Reduce UDF that sums up the message `m`."
   ]
  },
  {
   "cell_type": "code",
   "execution_count": 4,
   "metadata": {},
   "outputs": [],
   "source": [
    "import torch \n",
    "def reduce_func(nodes):\n",
    "    return {'h': torch.sum(nodes.mailbox['m'],dim=1)}"
   ]
  },
  {
   "cell_type": "markdown",
   "metadata": {},
   "source": [
    "This following uses a function called `apply_edges` to apply certain feature with the parameter to gain updating."
   ]
  },
  {
   "cell_type": "code",
   "execution_count": 5,
   "metadata": {},
   "outputs": [],
   "source": [
    "import dgl.function as fn \n",
    "# graph.apply_edges(fn.u_add_v('el', 'er', 'e'))"
   ]
  },
  {
   "cell_type": "markdown",
   "metadata": {},
   "source": [
    "The following is an example of update all information on a graph.\n",
    "\n",
    "It multiplies the src node features `ft` and edge features `a` and sum up the messages `m` to update the node features `ft`, and then multiplies 2 to get the result `final_ft`. After this call, DGL will clean the intermediate messages `m`. The formula can be described as follows:\n",
    "\n",
    "$$final\\_ft_i = 2 * \\sum\\limits_{j \\in graph(i)}(ft_j * a_{ji})$$"
   ]
  },
  {
   "cell_type": "code",
   "execution_count": null,
   "metadata": {},
   "outputs": [],
   "source": [
    "def update_all_example(graph):\n",
    "    graph.update_all(fn.u_mul_e('ft','a','m'),\n",
    "                     fn.sum('m','ft'))\n",
    "    final_ft = graph.ndata['ft'] * 2\n",
    "    return final_ft"
   ]
  },
  {
   "cell_type": "markdown",
   "metadata": {},
   "source": [
    "## Message Passing on Heterogeneous Graph\n",
    "Haterogeneous graphs are graphs that contain different types of nodes and edges. The different types tend to have different types of attributes that are designed to capture the characteristics of each node and edge type.\n",
    "\n",
    "The following contains how a heterograph can be used for message passing."
   ]
  },
  {
   "cell_type": "code",
   "execution_count": null,
   "metadata": {},
   "outputs": [],
   "source": [
    "import dgl.function as fn\n",
    "\n",
    "for c_etype in G.canonical_etypes:\n",
    "    srctype, etype, dsttype = c_etype\n",
    "    Wh = self.weight[etype](feat_dict[srctype])\n",
    "    # Save it in graph for message passing\n",
    "    G.nodes[srctype].data['Wh_%s' % etype] = Wh\n",
    "    # Specify per-relation message passing functions: (message_func, reduce_func).\n",
    "    # Note that the results are saved to the same destination feature 'h', which\n",
    "    # hints the type wise reducer for aggregation.\n",
    "    funcs[etype] = (fn.copy_u('Wh_%s' % etype, 'm'), fn.mean('m', 'h'))\n",
    "# Trigger message passing of multiple types.\n",
    "G.multi_update_all(funcs, 'sum')\n",
    "# return the updated node feature dictionary\n",
    "return {ntype : G.nodes[ntype].data['h'] for ntype in G.ntypes}"
   ]
  }
 ],
 "metadata": {
  "kernelspec": {
   "display_name": "base",
   "language": "python",
   "name": "python3"
  },
  "language_info": {
   "codemirror_mode": {
    "name": "ipython",
    "version": 3
   },
   "file_extension": ".py",
   "mimetype": "text/x-python",
   "name": "python",
   "nbconvert_exporter": "python",
   "pygments_lexer": "ipython3",
   "version": "3.8.10"
  },
  "orig_nbformat": 4
 },
 "nbformat": 4,
 "nbformat_minor": 2
}
