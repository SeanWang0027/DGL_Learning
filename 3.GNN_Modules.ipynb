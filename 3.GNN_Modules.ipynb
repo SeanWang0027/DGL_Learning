{
 "cells": [
  {
   "cell_type": "markdown",
   "metadata": {},
   "source": [
    "# GNN Building\n",
    "## DGL NN Module Construction Function\n",
    "The following is one example for this."
   ]
  },
  {
   "cell_type": "code",
   "execution_count": 4,
   "metadata": {},
   "outputs": [],
   "source": [
    "import torch.nn as nn\n",
    "\n",
    "from dgl.utils import expand_as_pair\n",
    "\n",
    "class SAGEConv(nn.Module):\n",
    "    def __init__(self,\n",
    "                 in_feats,\n",
    "                 out_feats,\n",
    "                 aggregator_type, # this contains how messages on different edges are aggregated for a certain destination node\n",
    "                 bias=True,\n",
    "                 norm=None,\n",
    "                 activation=None):\n",
    "        super(SAGEConv, self).__init__()\n",
    "\n",
    "        self._in_src_feats, self._in_dst_feats = expand_as_pair(in_feats)\n",
    "        self._out_feats = out_feats\n",
    "        self._aggre_type = aggregator_type\n",
    "        self.norm = norm\n",
    "        self.activation = activation\n",
    "\n",
    "        # aggregator type: mean, pool, lstm, gcn\n",
    "        if aggregator_type not in ['mean', 'pool', 'lstm', 'gcn']:\n",
    "            raise KeyError('Aggregator type {} not supported.'.format(aggregator_type))\n",
    "        if aggregator_type == 'pool':\n",
    "            self.fc_pool = nn.Linear(self._in_src_feats, self._in_src_feats)\n",
    "        if aggregator_type == 'lstm':\n",
    "            self.lstm = nn.LSTM(self._in_src_feats, self._in_src_feats, batch_first=True)\n",
    "        if aggregator_type in ['mean', 'pool', 'lstm']:\n",
    "            self.fc_self = nn.Linear(self._in_dst_feats, out_feats, bias=bias)\n",
    "        self.fc_neigh = nn.Linear(self._in_src_feats, out_feats, bias=bias)\n",
    "        self.reset_parameters()"
   ]
  },
  {
   "cell_type": "markdown",
   "metadata": {},
   "source": [
    "## DGL NN Module Forward Function\n",
    "`forward()` function does actual message passing and computation. This takes an additional parameter `dgl.DGLGraph`. The process of working can be split into three parts:\n",
    "\n",
    "1. Graph checking and graph type specification.\n",
    "\n",
    "2. Message passing.\n",
    "\n",
    "3. Feature update."
   ]
  },
  {
   "cell_type": "code",
   "execution_count": null,
   "metadata": {},
   "outputs": [],
   "source": []
  }
 ],
 "metadata": {
  "kernelspec": {
   "display_name": "base",
   "language": "python",
   "name": "python3"
  },
  "language_info": {
   "codemirror_mode": {
    "name": "ipython",
    "version": 3
   },
   "file_extension": ".py",
   "mimetype": "text/x-python",
   "name": "python",
   "nbconvert_exporter": "python",
   "pygments_lexer": "ipython3",
   "version": "3.8.10"
  },
  "orig_nbformat": 4
 },
 "nbformat": 4,
 "nbformat_minor": 2
}
